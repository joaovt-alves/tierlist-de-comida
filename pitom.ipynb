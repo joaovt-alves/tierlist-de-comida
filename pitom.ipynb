from flask import Flask, render_template, request, redirect, url_for

app = Flask(__name__)

# Define a dictionary to store the tier list
fast_food_tier_list = {
    "S": ["Hamburguer Artesanal"],
    "A": ["Batata Frita Crocante"],
    "B": ["Refrigerante"],
    "C": ["Sanduíche de Frango"],
    "D": ["Hot Dog de Carrinho"],
    "F": ["Cebola Empanada Fria"]
}

# Rotas de Visualização
# A rota principal que renderiza a página HTML e exibe a lista.
@app.route('/')
def index():
    return render_template('index.html', tier_list=fast_food_tier_list)

# Funções de Manipulação Adaptadas para Web

@app.route('/add', methods=['POST'])
def add_food():
    """Adiciona um item de comida a um nível e redireciona para a página principal."""
    # O Flask obtém os dados do formulário via 'request.form'
    food = request.form['food']
    tier = request.form['tier'].upper() # Garante que o nível esteja em maiúsculas

    if tier in fast_food_tier_list:
        if food not in fast_food_tier_list.get(tier, []):
            fast_food_tier_list[tier].append(food)
        # Redireciona o usuário de volta para a página inicial após a operação
        return redirect(url_for('index'))
    else:
        # Poderia ser um tratamento de erro mais sofisticado
        return f"Nível inválido: {tier}", 400 

@app.route('/remove', methods=['POST'])
def remove_food():
    """Remove um item e redireciona."""
    food_to_remove = request.form['food_to_remove']
    
    # Busca o item em todas as tiers para remover
    for tier in fast_food_tier_list:
        if food_to_remove in fast_food_tier_list[tier]:
            fast_food_tier_list[tier].remove(food_to_remove)
            return redirect(url_for('index'))
            
    return "Comida não encontrada para remoção.", 404
    

@app.route('/edit', methods=['POST'])
def edit_food_tier():
    """Edita o nível de um item e redireciona."""
    food = request.form['food_to_edit']
    new_tier = request.form['new_tier'].upper()

    if new_tier not in fast_food_tier_list:
        return f"Novo Nível inválido: {new_tier}", 400
    
    found = False
    for current_tier in fast_food_tier_list:
        if food in fast_food_tier_list[current_tier]:
            # Remove do nível atual
            fast_food_tier_list[current_tier].remove(food)
            # Adiciona ao novo nível
            fast_food_tier_list[new_tier].append(food)
            found = True
            break
            
    if found:
        return redirect(url_for('index'))
    else:
        return "Comida não encontrada para edição.", 404

if __name__ == '__main__':
    # 'debug=True' é ótimo para desenvolvimento, pois recarrega automaticamente
    app.run(debug=True)
